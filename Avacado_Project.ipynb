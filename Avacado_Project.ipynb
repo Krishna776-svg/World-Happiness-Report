{
 "cells": [
  {
   "cell_type": "code",
   "execution_count": 1,
   "metadata": {},
   "outputs": [],
   "source": [
    "# Importing required libraries\n",
    "\n",
    "import pandas as pd\n",
    "import seaborn as sns\n",
    "import matplotlib.pyplot as plt\n",
    "import numpy as np\n",
    "from nltk import flatten\n",
    "\n",
    "import warnings\n",
    "warnings.filterwarnings('ignore')"
   ]
  },
  {
   "cell_type": "code",
   "execution_count": 2,
   "metadata": {},
   "outputs": [
    {
     "data": {
      "text/html": [
       "<div>\n",
       "<style scoped>\n",
       "    .dataframe tbody tr th:only-of-type {\n",
       "        vertical-align: middle;\n",
       "    }\n",
       "\n",
       "    .dataframe tbody tr th {\n",
       "        vertical-align: top;\n",
       "    }\n",
       "\n",
       "    .dataframe thead th {\n",
       "        text-align: right;\n",
       "    }\n",
       "</style>\n",
       "<table border=\"1\" class=\"dataframe\">\n",
       "  <thead>\n",
       "    <tr style=\"text-align: right;\">\n",
       "      <th></th>\n",
       "      <th>Unnamed: 0</th>\n",
       "      <th>Date</th>\n",
       "      <th>AveragePrice</th>\n",
       "      <th>Total Volume</th>\n",
       "      <th>4046</th>\n",
       "      <th>4225</th>\n",
       "      <th>4770</th>\n",
       "      <th>Total Bags</th>\n",
       "      <th>Small Bags</th>\n",
       "      <th>Large Bags</th>\n",
       "      <th>XLarge Bags</th>\n",
       "      <th>type</th>\n",
       "      <th>year</th>\n",
       "      <th>region</th>\n",
       "    </tr>\n",
       "  </thead>\n",
       "  <tbody>\n",
       "    <tr>\n",
       "      <th>0</th>\n",
       "      <td>0</td>\n",
       "      <td>2015-12-27</td>\n",
       "      <td>1.33</td>\n",
       "      <td>64236.62</td>\n",
       "      <td>1036.74</td>\n",
       "      <td>54454.85</td>\n",
       "      <td>48.16</td>\n",
       "      <td>8696.87</td>\n",
       "      <td>8603.62</td>\n",
       "      <td>93.25</td>\n",
       "      <td>0.0</td>\n",
       "      <td>conventional</td>\n",
       "      <td>2015</td>\n",
       "      <td>Albany</td>\n",
       "    </tr>\n",
       "    <tr>\n",
       "      <th>1</th>\n",
       "      <td>1</td>\n",
       "      <td>2015-12-20</td>\n",
       "      <td>1.35</td>\n",
       "      <td>54876.98</td>\n",
       "      <td>674.28</td>\n",
       "      <td>44638.81</td>\n",
       "      <td>58.33</td>\n",
       "      <td>9505.56</td>\n",
       "      <td>9408.07</td>\n",
       "      <td>97.49</td>\n",
       "      <td>0.0</td>\n",
       "      <td>conventional</td>\n",
       "      <td>2015</td>\n",
       "      <td>Albany</td>\n",
       "    </tr>\n",
       "    <tr>\n",
       "      <th>2</th>\n",
       "      <td>2</td>\n",
       "      <td>2015-12-13</td>\n",
       "      <td>0.93</td>\n",
       "      <td>118220.22</td>\n",
       "      <td>794.70</td>\n",
       "      <td>109149.67</td>\n",
       "      <td>130.50</td>\n",
       "      <td>8145.35</td>\n",
       "      <td>8042.21</td>\n",
       "      <td>103.14</td>\n",
       "      <td>0.0</td>\n",
       "      <td>conventional</td>\n",
       "      <td>2015</td>\n",
       "      <td>Albany</td>\n",
       "    </tr>\n",
       "    <tr>\n",
       "      <th>3</th>\n",
       "      <td>3</td>\n",
       "      <td>2015-12-06</td>\n",
       "      <td>1.08</td>\n",
       "      <td>78992.15</td>\n",
       "      <td>1132.00</td>\n",
       "      <td>71976.41</td>\n",
       "      <td>72.58</td>\n",
       "      <td>5811.16</td>\n",
       "      <td>5677.40</td>\n",
       "      <td>133.76</td>\n",
       "      <td>0.0</td>\n",
       "      <td>conventional</td>\n",
       "      <td>2015</td>\n",
       "      <td>Albany</td>\n",
       "    </tr>\n",
       "    <tr>\n",
       "      <th>4</th>\n",
       "      <td>4</td>\n",
       "      <td>2015-11-29</td>\n",
       "      <td>1.28</td>\n",
       "      <td>51039.60</td>\n",
       "      <td>941.48</td>\n",
       "      <td>43838.39</td>\n",
       "      <td>75.78</td>\n",
       "      <td>6183.95</td>\n",
       "      <td>5986.26</td>\n",
       "      <td>197.69</td>\n",
       "      <td>0.0</td>\n",
       "      <td>conventional</td>\n",
       "      <td>2015</td>\n",
       "      <td>Albany</td>\n",
       "    </tr>\n",
       "    <tr>\n",
       "      <th>...</th>\n",
       "      <td>...</td>\n",
       "      <td>...</td>\n",
       "      <td>...</td>\n",
       "      <td>...</td>\n",
       "      <td>...</td>\n",
       "      <td>...</td>\n",
       "      <td>...</td>\n",
       "      <td>...</td>\n",
       "      <td>...</td>\n",
       "      <td>...</td>\n",
       "      <td>...</td>\n",
       "      <td>...</td>\n",
       "      <td>...</td>\n",
       "      <td>...</td>\n",
       "    </tr>\n",
       "    <tr>\n",
       "      <th>18244</th>\n",
       "      <td>7</td>\n",
       "      <td>2018-02-04</td>\n",
       "      <td>1.63</td>\n",
       "      <td>17074.83</td>\n",
       "      <td>2046.96</td>\n",
       "      <td>1529.20</td>\n",
       "      <td>0.00</td>\n",
       "      <td>13498.67</td>\n",
       "      <td>13066.82</td>\n",
       "      <td>431.85</td>\n",
       "      <td>0.0</td>\n",
       "      <td>organic</td>\n",
       "      <td>2018</td>\n",
       "      <td>WestTexNewMexico</td>\n",
       "    </tr>\n",
       "    <tr>\n",
       "      <th>18245</th>\n",
       "      <td>8</td>\n",
       "      <td>2018-01-28</td>\n",
       "      <td>1.71</td>\n",
       "      <td>13888.04</td>\n",
       "      <td>1191.70</td>\n",
       "      <td>3431.50</td>\n",
       "      <td>0.00</td>\n",
       "      <td>9264.84</td>\n",
       "      <td>8940.04</td>\n",
       "      <td>324.80</td>\n",
       "      <td>0.0</td>\n",
       "      <td>organic</td>\n",
       "      <td>2018</td>\n",
       "      <td>WestTexNewMexico</td>\n",
       "    </tr>\n",
       "    <tr>\n",
       "      <th>18246</th>\n",
       "      <td>9</td>\n",
       "      <td>2018-01-21</td>\n",
       "      <td>1.87</td>\n",
       "      <td>13766.76</td>\n",
       "      <td>1191.92</td>\n",
       "      <td>2452.79</td>\n",
       "      <td>727.94</td>\n",
       "      <td>9394.11</td>\n",
       "      <td>9351.80</td>\n",
       "      <td>42.31</td>\n",
       "      <td>0.0</td>\n",
       "      <td>organic</td>\n",
       "      <td>2018</td>\n",
       "      <td>WestTexNewMexico</td>\n",
       "    </tr>\n",
       "    <tr>\n",
       "      <th>18247</th>\n",
       "      <td>10</td>\n",
       "      <td>2018-01-14</td>\n",
       "      <td>1.93</td>\n",
       "      <td>16205.22</td>\n",
       "      <td>1527.63</td>\n",
       "      <td>2981.04</td>\n",
       "      <td>727.01</td>\n",
       "      <td>10969.54</td>\n",
       "      <td>10919.54</td>\n",
       "      <td>50.00</td>\n",
       "      <td>0.0</td>\n",
       "      <td>organic</td>\n",
       "      <td>2018</td>\n",
       "      <td>WestTexNewMexico</td>\n",
       "    </tr>\n",
       "    <tr>\n",
       "      <th>18248</th>\n",
       "      <td>11</td>\n",
       "      <td>2018-01-07</td>\n",
       "      <td>1.62</td>\n",
       "      <td>17489.58</td>\n",
       "      <td>2894.77</td>\n",
       "      <td>2356.13</td>\n",
       "      <td>224.53</td>\n",
       "      <td>12014.15</td>\n",
       "      <td>11988.14</td>\n",
       "      <td>26.01</td>\n",
       "      <td>0.0</td>\n",
       "      <td>organic</td>\n",
       "      <td>2018</td>\n",
       "      <td>WestTexNewMexico</td>\n",
       "    </tr>\n",
       "  </tbody>\n",
       "</table>\n",
       "<p>18249 rows × 14 columns</p>\n",
       "</div>"
      ],
      "text/plain": [
       "       Unnamed: 0        Date  AveragePrice  Total Volume     4046       4225  \\\n",
       "0               0  2015-12-27          1.33      64236.62  1036.74   54454.85   \n",
       "1               1  2015-12-20          1.35      54876.98   674.28   44638.81   \n",
       "2               2  2015-12-13          0.93     118220.22   794.70  109149.67   \n",
       "3               3  2015-12-06          1.08      78992.15  1132.00   71976.41   \n",
       "4               4  2015-11-29          1.28      51039.60   941.48   43838.39   \n",
       "...           ...         ...           ...           ...      ...        ...   \n",
       "18244           7  2018-02-04          1.63      17074.83  2046.96    1529.20   \n",
       "18245           8  2018-01-28          1.71      13888.04  1191.70    3431.50   \n",
       "18246           9  2018-01-21          1.87      13766.76  1191.92    2452.79   \n",
       "18247          10  2018-01-14          1.93      16205.22  1527.63    2981.04   \n",
       "18248          11  2018-01-07          1.62      17489.58  2894.77    2356.13   \n",
       "\n",
       "         4770  Total Bags  Small Bags  Large Bags  XLarge Bags          type  \\\n",
       "0       48.16     8696.87     8603.62       93.25          0.0  conventional   \n",
       "1       58.33     9505.56     9408.07       97.49          0.0  conventional   \n",
       "2      130.50     8145.35     8042.21      103.14          0.0  conventional   \n",
       "3       72.58     5811.16     5677.40      133.76          0.0  conventional   \n",
       "4       75.78     6183.95     5986.26      197.69          0.0  conventional   \n",
       "...       ...         ...         ...         ...          ...           ...   \n",
       "18244    0.00    13498.67    13066.82      431.85          0.0       organic   \n",
       "18245    0.00     9264.84     8940.04      324.80          0.0       organic   \n",
       "18246  727.94     9394.11     9351.80       42.31          0.0       organic   \n",
       "18247  727.01    10969.54    10919.54       50.00          0.0       organic   \n",
       "18248  224.53    12014.15    11988.14       26.01          0.0       organic   \n",
       "\n",
       "       year            region  \n",
       "0      2015            Albany  \n",
       "1      2015            Albany  \n",
       "2      2015            Albany  \n",
       "3      2015            Albany  \n",
       "4      2015            Albany  \n",
       "...     ...               ...  \n",
       "18244  2018  WestTexNewMexico  \n",
       "18245  2018  WestTexNewMexico  \n",
       "18246  2018  WestTexNewMexico  \n",
       "18247  2018  WestTexNewMexico  \n",
       "18248  2018  WestTexNewMexico  \n",
       "\n",
       "[18249 rows x 14 columns]"
      ]
     },
     "execution_count": 2,
     "metadata": {},
     "output_type": "execute_result"
    }
   ],
   "source": [
    "# Loading the dataset..\n",
    "\n",
    "df =pd.read_csv(\"avocado.csv\")\n",
    "df"
   ]
  },
  {
   "cell_type": "code",
   "execution_count": 3,
   "metadata": {},
   "outputs": [
    {
     "name": "stdout",
     "output_type": "stream",
     "text": [
      "\n",
      "Features Present in the Dataset: \n",
      " Index(['Unnamed: 0', 'Date', 'AveragePrice', 'Total Volume', '4046', '4225',\n",
      "       '4770', 'Total Bags', 'Small Bags', 'Large Bags', 'XLarge Bags', 'type',\n",
      "       'year', 'region'],\n",
      "      dtype='object')\n",
      "\n",
      "Total Number of Rows :  18249\n",
      "Total Number of Features :  14\n",
      "\n",
      "\n",
      "Data Types of Features :\n",
      " Unnamed: 0        int64\n",
      "Date             object\n",
      "AveragePrice    float64\n",
      "Total Volume    float64\n",
      "4046            float64\n",
      "4225            float64\n",
      "4770            float64\n",
      "Total Bags      float64\n",
      "Small Bags      float64\n",
      "Large Bags      float64\n",
      "XLarge Bags     float64\n",
      "type             object\n",
      "year              int64\n",
      "region           object\n",
      "dtype: object\n",
      "\n",
      "Dataset contains any NaN/Empty cells :  False\n",
      "\n",
      "Total number of empty rows in each feature:\n",
      " Unnamed: 0      0\n",
      "Date            0\n",
      "AveragePrice    0\n",
      "Total Volume    0\n",
      "4046            0\n",
      "4225            0\n",
      "4770            0\n",
      "Total Bags      0\n",
      "Small Bags      0\n",
      "Large Bags      0\n",
      "XLarge Bags     0\n",
      "type            0\n",
      "year            0\n",
      "region          0\n",
      "dtype: int64 \n",
      "\n",
      "\n",
      "Total number of unique values in each feature:\n",
      "Number of unique values of Unnamed: 0 : 53\n",
      "Number of unique values of Date : 169\n",
      "Number of unique values of AveragePrice : 259\n",
      "Number of unique values of Total Volume : 18237\n",
      "Number of unique values of 4046 : 17702\n",
      "Number of unique values of 4225 : 18103\n",
      "Number of unique values of 4770 : 12071\n",
      "Number of unique values of Total Bags : 18097\n",
      "Number of unique values of Small Bags : 17321\n",
      "Number of unique values of Large Bags : 15082\n",
      "Number of unique values of XLarge Bags : 5588\n",
      "Number of unique values of type : 2\n",
      "Number of unique values of year : 4\n",
      "Number of unique values of region : 54\n"
     ]
    }
   ],
   "source": [
    "# checking the features, their shape, duplicate, missing values and nan values in the Datasets\n",
    "\n",
    "print(\"\\nFeatures Present in the Dataset: \\n\", df.columns)\n",
    "shape=df.shape\n",
    "print(\"\\nTotal Number of Rows : \",shape[0])\n",
    "print(\"Total Number of Features : \", shape[1])\n",
    "print(\"\\n\\nData Types of Features :\\n\", df.dtypes)\n",
    "print(\"\\nDataset contains any NaN/Empty cells : \", df.isnull().values.any())\n",
    "print(\"\\nTotal number of empty rows in each feature:\\n\", df.isnull().sum(),\"\\n\\n\")\n",
    "print(\"Total number of unique values in each feature:\")\n",
    "for col in df.columns.values:\n",
    "    print(\"Number of unique values of {} : {}\".format(col, df[col].nunique()))"
   ]
  },
  {
   "cell_type": "markdown",
   "metadata": {},
   "source": [
    "As we can see the data set there are 18249 rows and 14 columns,most of the column are of same data type that is float and Date, type and region is of object data type and ther is no empty rows."
   ]
  },
  {
   "cell_type": "code",
   "execution_count": 4,
   "metadata": {},
   "outputs": [
    {
     "data": {
      "text/plain": [
       "<AxesSubplot:>"
      ]
     },
     "execution_count": 4,
     "metadata": {},
     "output_type": "execute_result"
    },
    {
     "data": {
      "image/png": "[encoded data removed]",
      "text/plain": [
       "<Figure size 432x288 with 2 Axes>"
      ]
     },
     "metadata": {
      "needs_background": "light"
     },
     "output_type": "display_data"
    }
   ],
   "source": [
    "#using heatmap for checking null values\n",
    "sns.heatmap(df.isnull())"
   ]
  },
  {
   "cell_type": "code",
   "execution_count": 10,
   "metadata": {},
   "outputs": [
    {
     "data": {
      "text/plain": [
       "year\n",
       "2015    1.375590\n",
       "2016    1.338640\n",
       "2017    1.515128\n",
       "2018    1.347531\n",
       "Name: AveragePrice, dtype: float64"
      ]
     },
     "execution_count": 10,
     "metadata": {},
     "output_type": "execute_result"
    }
   ],
   "source": [
    "df.groupby(['year'])['AveragePrice'].mean()"
   ]
  },
  {
   "cell_type": "code",
   "execution_count": 11,
   "metadata": {},
   "outputs": [
    {
     "data": {
      "text/plain": [
       "year  type        \n",
       "2015  conventional    2808\n",
       "      organic         2807\n",
       "2016  conventional    2808\n",
       "      organic         2808\n",
       "2017  conventional    2862\n",
       "      organic         2860\n",
       "2018  conventional     648\n",
       "      organic          648\n",
       "Name: type, dtype: int64"
      ]
     },
     "execution_count": 11,
     "metadata": {},
     "output_type": "execute_result"
    }
   ],
   "source": [
    "df.groupby('year')['type'].value_counts()"
   ]
  },
  {
   "cell_type": "code",
   "execution_count": 12,
   "metadata": {},
   "outputs": [],
   "source": [
    "#Dropping index features that is not adding any important information\n",
    "df.drop('Unnamed: 0',\n",
    "             axis = 1,\n",
    "             inplace = True)\n"
   ]
  },
  {
   "cell_type": "code",
   "execution_count": 13,
   "metadata": {},
   "outputs": [
    {
     "data": {
      "text/html": [
       "<div>\n",
       "<style scoped>\n",
       "    .dataframe tbody tr th:only-of-type {\n",
       "        vertical-align: middle;\n",
       "    }\n",
       "\n",
       "    .dataframe tbody tr th {\n",
       "        vertical-align: top;\n",
       "    }\n",
       "\n",
       "    .dataframe thead th {\n",
       "        text-align: right;\n",
       "    }\n",
       "</style>\n",
       "<table border=\"1\" class=\"dataframe\">\n",
       "  <thead>\n",
       "    <tr style=\"text-align: right;\">\n",
       "      <th></th>\n",
       "      <th>AveragePrice</th>\n",
       "      <th>Total Volume</th>\n",
       "      <th>4046</th>\n",
       "      <th>4225</th>\n",
       "      <th>4770</th>\n",
       "      <th>Total Bags</th>\n",
       "      <th>Small Bags</th>\n",
       "      <th>Large Bags</th>\n",
       "      <th>XLarge Bags</th>\n",
       "      <th>year</th>\n",
       "    </tr>\n",
       "  </thead>\n",
       "  <tbody>\n",
       "    <tr>\n",
       "      <th>count</th>\n",
       "      <td>18249.000000</td>\n",
       "      <td>1.824900e+04</td>\n",
       "      <td>1.824900e+04</td>\n",
       "      <td>1.824900e+04</td>\n",
       "      <td>1.824900e+04</td>\n",
       "      <td>1.824900e+04</td>\n",
       "      <td>1.824900e+04</td>\n",
       "      <td>1.824900e+04</td>\n",
       "      <td>18249.000000</td>\n",
       "      <td>18249.000000</td>\n",
       "    </tr>\n",
       "    <tr>\n",
       "      <th>mean</th>\n",
       "      <td>1.405978</td>\n",
       "      <td>8.506440e+05</td>\n",
       "      <td>2.930084e+05</td>\n",
       "      <td>2.951546e+05</td>\n",
       "      <td>2.283974e+04</td>\n",
       "      <td>2.396392e+05</td>\n",
       "      <td>1.821947e+05</td>\n",
       "      <td>5.433809e+04</td>\n",
       "      <td>3106.426507</td>\n",
       "      <td>2016.147899</td>\n",
       "    </tr>\n",
       "    <tr>\n",
       "      <th>std</th>\n",
       "      <td>0.402677</td>\n",
       "      <td>3.453545e+06</td>\n",
       "      <td>1.264989e+06</td>\n",
       "      <td>1.204120e+06</td>\n",
       "      <td>1.074641e+05</td>\n",
       "      <td>9.862424e+05</td>\n",
       "      <td>7.461785e+05</td>\n",
       "      <td>2.439660e+05</td>\n",
       "      <td>17692.894652</td>\n",
       "      <td>0.939938</td>\n",
       "    </tr>\n",
       "    <tr>\n",
       "      <th>min</th>\n",
       "      <td>0.440000</td>\n",
       "      <td>8.456000e+01</td>\n",
       "      <td>0.000000e+00</td>\n",
       "      <td>0.000000e+00</td>\n",
       "      <td>0.000000e+00</td>\n",
       "      <td>0.000000e+00</td>\n",
       "      <td>0.000000e+00</td>\n",
       "      <td>0.000000e+00</td>\n",
       "      <td>0.000000</td>\n",
       "      <td>2015.000000</td>\n",
       "    </tr>\n",
       "    <tr>\n",
       "      <th>25%</th>\n",
       "      <td>1.100000</td>\n",
       "      <td>1.083858e+04</td>\n",
       "      <td>8.540700e+02</td>\n",
       "      <td>3.008780e+03</td>\n",
       "      <td>0.000000e+00</td>\n",
       "      <td>5.088640e+03</td>\n",
       "      <td>2.849420e+03</td>\n",
       "      <td>1.274700e+02</td>\n",
       "      <td>0.000000</td>\n",
       "      <td>2015.000000</td>\n",
       "    </tr>\n",
       "    <tr>\n",
       "      <th>50%</th>\n",
       "      <td>1.370000</td>\n",
       "      <td>1.073768e+05</td>\n",
       "      <td>8.645300e+03</td>\n",
       "      <td>2.906102e+04</td>\n",
       "      <td>1.849900e+02</td>\n",
       "      <td>3.974383e+04</td>\n",
       "      <td>2.636282e+04</td>\n",
       "      <td>2.647710e+03</td>\n",
       "      <td>0.000000</td>\n",
       "      <td>2016.000000</td>\n",
       "    </tr>\n",
       "    <tr>\n",
       "      <th>75%</th>\n",
       "      <td>1.660000</td>\n",
       "      <td>4.329623e+05</td>\n",
       "      <td>1.110202e+05</td>\n",
       "      <td>1.502069e+05</td>\n",
       "      <td>6.243420e+03</td>\n",
       "      <td>1.107834e+05</td>\n",
       "      <td>8.333767e+04</td>\n",
       "      <td>2.202925e+04</td>\n",
       "      <td>132.500000</td>\n",
       "      <td>2017.000000</td>\n",
       "    </tr>\n",
       "    <tr>\n",
       "      <th>max</th>\n",
       "      <td>3.250000</td>\n",
       "      <td>6.250565e+07</td>\n",
       "      <td>2.274362e+07</td>\n",
       "      <td>2.047057e+07</td>\n",
       "      <td>2.546439e+06</td>\n",
       "      <td>1.937313e+07</td>\n",
       "      <td>1.338459e+07</td>\n",
       "      <td>5.719097e+06</td>\n",
       "      <td>551693.650000</td>\n",
       "      <td>2018.000000</td>\n",
       "    </tr>\n",
       "  </tbody>\n",
       "</table>\n",
       "</div>"
      ],
      "text/plain": [
       "       AveragePrice  Total Volume          4046          4225          4770  \\\n",
       "count  18249.000000  1.824900e+04  1.824900e+04  1.824900e+04  1.824900e+04   \n",
       "mean       1.405978  8.506440e+05  2.930084e+05  2.951546e+05  2.283974e+04   \n",
       "std        0.402677  3.453545e+06  1.264989e+06  1.204120e+06  1.074641e+05   \n",
       "min        0.440000  8.456000e+01  0.000000e+00  0.000000e+00  0.000000e+00   \n",
       "25%        1.100000  1.083858e+04  8.540700e+02  3.008780e+03  0.000000e+00   \n",
       "50%        1.370000  1.073768e+05  8.645300e+03  2.906102e+04  1.849900e+02   \n",
       "75%        1.660000  4.329623e+05  1.110202e+05  1.502069e+05  6.243420e+03   \n",
       "max        3.250000  6.250565e+07  2.274362e+07  2.047057e+07  2.546439e+06   \n",
       "\n",
       "         Total Bags    Small Bags    Large Bags    XLarge Bags          year  \n",
       "count  1.824900e+04  1.824900e+04  1.824900e+04   18249.000000  18249.000000  \n",
       "mean   2.396392e+05  1.821947e+05  5.433809e+04    3106.426507   2016.147899  \n",
       "std    9.862424e+05  7.461785e+05  2.439660e+05   17692.894652      0.939938  \n",
       "min    0.000000e+00  0.000000e+00  0.000000e+00       0.000000   2015.000000  \n",
       "25%    5.088640e+03  2.849420e+03  1.274700e+02       0.000000   2015.000000  \n",
       "50%    3.974383e+04  2.636282e+04  2.647710e+03       0.000000   2016.000000  \n",
       "75%    1.107834e+05  8.333767e+04  2.202925e+04     132.500000   2017.000000  \n",
       "max    1.937313e+07  1.338459e+07  5.719097e+06  551693.650000   2018.000000  "
      ]
     },
     "execution_count": 13,
     "metadata": {},
     "output_type": "execute_result"
    }
   ],
   "source": [
    "df.describe()"
   ]
  },
  {
   "cell_type": "code",
   "execution_count": 14,
   "metadata": {},
   "outputs": [
    {
     "data": {
      "text/plain": [
       "<AxesSubplot:xlabel='year', ylabel='AveragePrice'>"
      ]
     },
     "execution_count": 14,
     "metadata": {},
     "output_type": "execute_result"
    },
    {
     "data": {
      "image/png": "[encoded data removed]",
      "text/plain": [
       "<Figure size 432x288 with 1 Axes>"
      ]
     },
     "metadata": {
      "needs_background": "light"
     },
     "output_type": "display_data"
    }
   ],
   "source": [
    "#Data Visualization:\n",
    "sns.barplot(x='year', y= 'AveragePrice', data= df)"
   ]
  },
  {
   "cell_type": "markdown",
   "metadata": {},
   "source": [
    "we can see that maximum average price year is 2017"
   ]
  },
  {
   "cell_type": "code",
   "execution_count": 15,
   "metadata": {},
   "outputs": [
    {
     "data": {
      "text/plain": [
       "array([[<AxesSubplot:title={'center':'AveragePrice'}>,\n",
       "        <AxesSubplot:title={'center':'Total Volume'}>,\n",
       "        <AxesSubplot:title={'center':'4046'}>,\n",
       "        <AxesSubplot:title={'center':'4225'}>,\n",
       "        <AxesSubplot:title={'center':'4770'}>,\n",
       "        <AxesSubplot:title={'center':'Total Bags'}>,\n",
       "        <AxesSubplot:title={'center':'Small Bags'}>],\n",
       "       [<AxesSubplot:title={'center':'Large Bags'}>,\n",
       "        <AxesSubplot:title={'center':'XLarge Bags'}>,\n",
       "        <AxesSubplot:title={'center':'year'}>, <AxesSubplot:>,\n",
       "        <AxesSubplot:>, <AxesSubplot:>, <AxesSubplot:>],\n",
       "       [<AxesSubplot:>, <AxesSubplot:>, <AxesSubplot:>, <AxesSubplot:>,\n",
       "        <AxesSubplot:>, <AxesSubplot:>, <AxesSubplot:>],\n",
       "       [<AxesSubplot:>, <AxesSubplot:>, <AxesSubplot:>, <AxesSubplot:>,\n",
       "        <AxesSubplot:>, <AxesSubplot:>, <AxesSubplot:>],\n",
       "       [<AxesSubplot:>, <AxesSubplot:>, <AxesSubplot:>, <AxesSubplot:>,\n",
       "        <AxesSubplot:>, <AxesSubplot:>, <AxesSubplot:>]], dtype=object)"
      ]
     },
     "execution_count": 15,
     "metadata": {},
     "output_type": "execute_result"
    },
    {
     "data": {
      "image/png": "[encoded data removed]",
      "text/plain": [
       "<Figure size 1440x1440 with 35 Axes>"
      ]
     },
     "metadata": {
      "needs_background": "light"
     },
     "output_type": "display_data"
    }
   ],
   "source": [
    "# Checking the Distribution using the histogram plot.\n",
    "\n",
    "df.hist(figsize=(20,20),grid=True,layout=(5,7),bins=30,color='lightblue')"
   ]
  },
  {
   "cell_type": "code",
   "execution_count": 16,
   "metadata": {},
   "outputs": [
    {
     "data": {
      "text/plain": [
       "AveragePrice     0.580303\n",
       "Total Volume     9.007687\n",
       "4046             8.648220\n",
       "4225             8.942466\n",
       "4770            10.159396\n",
       "Total Bags       9.756072\n",
       "Small Bags       9.540660\n",
       "Large Bags       9.796455\n",
       "XLarge Bags     13.139751\n",
       "year             0.215339\n",
       "dtype: float64"
      ]
     },
     "execution_count": 16,
     "metadata": {},
     "output_type": "execute_result"
    }
   ],
   "source": [
    "df.skew()"
   ]
  },
  {
   "cell_type": "code",
   "execution_count": 17,
   "metadata": {},
   "outputs": [],
   "source": [
    "skew=('Total Volume', '4046','4225', '4770','Total Bags', 'Small Bags', 'Large Bags', 'XLarge Bags')\n",
    "for col in skew:\n",
    "    if df.skew().loc()[col]>0.55:\n",
    "        df[col]= np.log1p(df[col])\n",
    "        \n"
   ]
  },
  {
   "cell_type": "code",
   "execution_count": 18,
   "metadata": {},
   "outputs": [
    {
     "data": {
      "text/plain": [
       "AveragePrice    0.580303\n",
       "Total Volume    0.088098\n",
       "4046           -0.328195\n",
       "4225           -0.486654\n",
       "4770            0.099986\n",
       "Total Bags     -0.218874\n",
       "Small Bags     -0.622148\n",
       "Large Bags     -0.547765\n",
       "XLarge Bags     1.176494\n",
       "year            0.215339\n",
       "dtype: float64"
      ]
     },
     "execution_count": 18,
     "metadata": {},
     "output_type": "execute_result"
    }
   ],
   "source": [
    "df.skew()"
   ]
  },
  {
   "cell_type": "code",
   "execution_count": 19,
   "metadata": {},
   "outputs": [
    {
     "data": {
      "text/plain": [
       "AveragePrice       AxesSubplot(0.125,0.826831;0.227941x0.053169)\n",
       "Total Volume    AxesSubplot(0.398529,0.826831;0.227941x0.053169)\n",
       "4046            AxesSubplot(0.672059,0.826831;0.227941x0.053169)\n",
       "4225               AxesSubplot(0.125,0.763028;0.227941x0.053169)\n",
       "4770            AxesSubplot(0.398529,0.763028;0.227941x0.053169)\n",
       "Total Bags      AxesSubplot(0.672059,0.763028;0.227941x0.053169)\n",
       "Small Bags         AxesSubplot(0.125,0.699225;0.227941x0.053169)\n",
       "Large Bags      AxesSubplot(0.398529,0.699225;0.227941x0.053169)\n",
       "XLarge Bags     AxesSubplot(0.672059,0.699225;0.227941x0.053169)\n",
       "year               AxesSubplot(0.125,0.635423;0.227941x0.053169)\n",
       "dtype: object"
      ]
     },
     "execution_count": 19,
     "metadata": {},
     "output_type": "execute_result"
    },
    {
     "data": {
      "image/png": "[encoded data removed]",
      "text/plain": [
       "<Figure size 1440x1440 with 36 Axes>"
      ]
     },
     "metadata": {
      "needs_background": "light"
     },
     "output_type": "display_data"
    }
   ],
   "source": [
    "#Checking the outliers\n",
    "\n",
    "df.plot(kind='box', subplots=True, layout=(12,3),figsize=(20,20),grid=True, notch=True, color='red',legend=True)"
   ]
  },
  {
   "cell_type": "code",
   "execution_count": 50,
   "metadata": {},
   "outputs": [
    {
     "data": {
      "text/plain": [
       "[]"
      ]
     },
     "execution_count": 50,
     "metadata": {},
     "output_type": "execute_result"
    },
    {
     "data": {
      "image/png": "[encoded data removed]",
      "text/plain": [
       "<Figure size 1440x1440 with 2 Axes>"
      ]
     },
     "metadata": {
      "needs_background": "light"
     },
     "output_type": "display_data"
    }
   ],
   "source": [
    "# Checking the correlation\n",
    "\n",
    "df_cor= df.corr()\n",
    "plt.figure(figsize=(20,20))\n",
    "sns.heatmap(df_cor, annot= True)\n",
    "plt.plot()"
   ]
  },
  {
   "cell_type": "markdown",
   "metadata": {},
   "source": [
    "# Model Training"
   ]
  },
  {
   "cell_type": "code",
   "execution_count": 30,
   "metadata": {},
   "outputs": [],
   "source": [
    "# use sckitlearn library and split your dataset into train_set and test_set\n",
    "# IMPORTANT --> consider 25% of your dataset as the test_set (random_state=42)\n",
    "from sklearn.model_selection import train_test_split\n",
    "train_set, test_set = train_test_split(df, test_size=0.33, random_state=42)"
   ]
  },
  {
   "cell_type": "code",
   "execution_count": 31,
   "metadata": {},
   "outputs": [
    {
     "data": {
      "text/html": [
       "<div>\n",
       "<style scoped>\n",
       "    .dataframe tbody tr th:only-of-type {\n",
       "        vertical-align: middle;\n",
       "    }\n",
       "\n",
       "    .dataframe tbody tr th {\n",
       "        vertical-align: top;\n",
       "    }\n",
       "\n",
       "    .dataframe thead th {\n",
       "        text-align: right;\n",
       "    }\n",
       "</style>\n",
       "<table border=\"1\" class=\"dataframe\">\n",
       "  <thead>\n",
       "    <tr style=\"text-align: right;\">\n",
       "      <th></th>\n",
       "      <th>Date</th>\n",
       "      <th>AveragePrice</th>\n",
       "      <th>Total Volume</th>\n",
       "      <th>4046</th>\n",
       "      <th>4225</th>\n",
       "      <th>4770</th>\n",
       "      <th>Total Bags</th>\n",
       "      <th>Small Bags</th>\n",
       "      <th>Large Bags</th>\n",
       "      <th>XLarge Bags</th>\n",
       "      <th>type</th>\n",
       "      <th>year</th>\n",
       "      <th>region</th>\n",
       "    </tr>\n",
       "  </thead>\n",
       "  <tbody>\n",
       "    <tr>\n",
       "      <th>7660</th>\n",
       "      <td>2017-06-04</td>\n",
       "      <td>1.38</td>\n",
       "      <td>12.472477</td>\n",
       "      <td>11.137600</td>\n",
       "      <td>11.594849</td>\n",
       "      <td>7.813212</td>\n",
       "      <td>11.306376</td>\n",
       "      <td>11.262460</td>\n",
       "      <td>7.456316</td>\n",
       "      <td>7.476472</td>\n",
       "      <td>conventional</td>\n",
       "      <td>2017</td>\n",
       "      <td>RichmondNorfolk</td>\n",
       "    </tr>\n",
       "    <tr>\n",
       "      <th>3837</th>\n",
       "      <td>2016-03-13</td>\n",
       "      <td>1.03</td>\n",
       "      <td>12.095521</td>\n",
       "      <td>9.386337</td>\n",
       "      <td>11.489967</td>\n",
       "      <td>9.782157</td>\n",
       "      <td>10.853243</td>\n",
       "      <td>10.261637</td>\n",
       "      <td>9.866776</td>\n",
       "      <td>8.245608</td>\n",
       "      <td>conventional</td>\n",
       "      <td>2016</td>\n",
       "      <td>Indianapolis</td>\n",
       "    </tr>\n",
       "    <tr>\n",
       "      <th>2582</th>\n",
       "      <td>2015-05-03</td>\n",
       "      <td>1.40</td>\n",
       "      <td>10.831556</td>\n",
       "      <td>6.454585</td>\n",
       "      <td>10.094210</td>\n",
       "      <td>2.986187</td>\n",
       "      <td>10.155704</td>\n",
       "      <td>10.142768</td>\n",
       "      <td>5.804532</td>\n",
       "      <td>0.000000</td>\n",
       "      <td>conventional</td>\n",
       "      <td>2015</td>\n",
       "      <td>Syracuse</td>\n",
       "    </tr>\n",
       "    <tr>\n",
       "      <th>15670</th>\n",
       "      <td>2017-06-18</td>\n",
       "      <td>2.14</td>\n",
       "      <td>10.075469</td>\n",
       "      <td>6.311699</td>\n",
       "      <td>9.548481</td>\n",
       "      <td>2.061787</td>\n",
       "      <td>9.124118</td>\n",
       "      <td>9.038314</td>\n",
       "      <td>6.627155</td>\n",
       "      <td>0.000000</td>\n",
       "      <td>organic</td>\n",
       "      <td>2017</td>\n",
       "      <td>HartfordSpringfield</td>\n",
       "    </tr>\n",
       "    <tr>\n",
       "      <th>15376</th>\n",
       "      <td>2017-01-01</td>\n",
       "      <td>1.06</td>\n",
       "      <td>9.659557</td>\n",
       "      <td>8.321585</td>\n",
       "      <td>5.746555</td>\n",
       "      <td>0.000000</td>\n",
       "      <td>9.327951</td>\n",
       "      <td>9.318150</td>\n",
       "      <td>4.706824</td>\n",
       "      <td>0.000000</td>\n",
       "      <td>organic</td>\n",
       "      <td>2017</td>\n",
       "      <td>DallasFtWorth</td>\n",
       "    </tr>\n",
       "    <tr>\n",
       "      <th>...</th>\n",
       "      <td>...</td>\n",
       "      <td>...</td>\n",
       "      <td>...</td>\n",
       "      <td>...</td>\n",
       "      <td>...</td>\n",
       "      <td>...</td>\n",
       "      <td>...</td>\n",
       "      <td>...</td>\n",
       "      <td>...</td>\n",
       "      <td>...</td>\n",
       "      <td>...</td>\n",
       "      <td>...</td>\n",
       "      <td>...</td>\n",
       "    </tr>\n",
       "    <tr>\n",
       "      <th>11284</th>\n",
       "      <td>2015-06-28</td>\n",
       "      <td>1.55</td>\n",
       "      <td>9.468670</td>\n",
       "      <td>7.782870</td>\n",
       "      <td>9.230842</td>\n",
       "      <td>0.000000</td>\n",
       "      <td>5.838809</td>\n",
       "      <td>5.838809</td>\n",
       "      <td>0.000000</td>\n",
       "      <td>0.000000</td>\n",
       "      <td>organic</td>\n",
       "      <td>2015</td>\n",
       "      <td>SanDiego</td>\n",
       "    </tr>\n",
       "    <tr>\n",
       "      <th>11964</th>\n",
       "      <td>2016-05-22</td>\n",
       "      <td>1.55</td>\n",
       "      <td>7.085115</td>\n",
       "      <td>3.322154</td>\n",
       "      <td>5.849872</td>\n",
       "      <td>0.000000</td>\n",
       "      <td>6.710706</td>\n",
       "      <td>6.710706</td>\n",
       "      <td>0.000000</td>\n",
       "      <td>0.000000</td>\n",
       "      <td>organic</td>\n",
       "      <td>2016</td>\n",
       "      <td>Albany</td>\n",
       "    </tr>\n",
       "    <tr>\n",
       "      <th>5390</th>\n",
       "      <td>2016-05-01</td>\n",
       "      <td>1.31</td>\n",
       "      <td>11.331508</td>\n",
       "      <td>6.900972</td>\n",
       "      <td>10.914206</td>\n",
       "      <td>6.646481</td>\n",
       "      <td>10.192303</td>\n",
       "      <td>10.192303</td>\n",
       "      <td>0.000000</td>\n",
       "      <td>0.000000</td>\n",
       "      <td>conventional</td>\n",
       "      <td>2016</td>\n",
       "      <td>Syracuse</td>\n",
       "    </tr>\n",
       "    <tr>\n",
       "      <th>860</th>\n",
       "      <td>2015-06-14</td>\n",
       "      <td>1.13</td>\n",
       "      <td>12.533864</td>\n",
       "      <td>10.663526</td>\n",
       "      <td>11.852285</td>\n",
       "      <td>7.615451</td>\n",
       "      <td>11.433684</td>\n",
       "      <td>11.384564</td>\n",
       "      <td>7.945346</td>\n",
       "      <td>7.382535</td>\n",
       "      <td>conventional</td>\n",
       "      <td>2015</td>\n",
       "      <td>HarrisburgScranton</td>\n",
       "    </tr>\n",
       "    <tr>\n",
       "      <th>15795</th>\n",
       "      <td>2017-02-05</td>\n",
       "      <td>1.35</td>\n",
       "      <td>8.175387</td>\n",
       "      <td>6.343898</td>\n",
       "      <td>7.252288</td>\n",
       "      <td>0.000000</td>\n",
       "      <td>7.361433</td>\n",
       "      <td>6.867319</td>\n",
       "      <td>6.421167</td>\n",
       "      <td>0.000000</td>\n",
       "      <td>organic</td>\n",
       "      <td>2017</td>\n",
       "      <td>Indianapolis</td>\n",
       "    </tr>\n",
       "  </tbody>\n",
       "</table>\n",
       "<p>12226 rows × 13 columns</p>\n",
       "</div>"
      ],
      "text/plain": [
       "             Date  AveragePrice  Total Volume       4046       4225      4770  \\\n",
       "7660   2017-06-04          1.38     12.472477  11.137600  11.594849  7.813212   \n",
       "3837   2016-03-13          1.03     12.095521   9.386337  11.489967  9.782157   \n",
       "2582   2015-05-03          1.40     10.831556   6.454585  10.094210  2.986187   \n",
       "15670  2017-06-18          2.14     10.075469   6.311699   9.548481  2.061787   \n",
       "15376  2017-01-01          1.06      9.659557   8.321585   5.746555  0.000000   \n",
       "...           ...           ...           ...        ...        ...       ...   \n",
       "11284  2015-06-28          1.55      9.468670   7.782870   9.230842  0.000000   \n",
       "11964  2016-05-22          1.55      7.085115   3.322154   5.849872  0.000000   \n",
       "5390   2016-05-01          1.31     11.331508   6.900972  10.914206  6.646481   \n",
       "860    2015-06-14          1.13     12.533864  10.663526  11.852285  7.615451   \n",
       "15795  2017-02-05          1.35      8.175387   6.343898   7.252288  0.000000   \n",
       "\n",
       "       Total Bags  Small Bags  Large Bags  XLarge Bags          type  year  \\\n",
       "7660    11.306376   11.262460    7.456316     7.476472  conventional  2017   \n",
       "3837    10.853243   10.261637    9.866776     8.245608  conventional  2016   \n",
       "2582    10.155704   10.142768    5.804532     0.000000  conventional  2015   \n",
       "15670    9.124118    9.038314    6.627155     0.000000       organic  2017   \n",
       "15376    9.327951    9.318150    4.706824     0.000000       organic  2017   \n",
       "...           ...         ...         ...          ...           ...   ...   \n",
       "11284    5.838809    5.838809    0.000000     0.000000       organic  2015   \n",
       "11964    6.710706    6.710706    0.000000     0.000000       organic  2016   \n",
       "5390    10.192303   10.192303    0.000000     0.000000  conventional  2016   \n",
       "860     11.433684   11.384564    7.945346     7.382535  conventional  2015   \n",
       "15795    7.361433    6.867319    6.421167     0.000000       organic  2017   \n",
       "\n",
       "                    region  \n",
       "7660       RichmondNorfolk  \n",
       "3837          Indianapolis  \n",
       "2582              Syracuse  \n",
       "15670  HartfordSpringfield  \n",
       "15376        DallasFtWorth  \n",
       "...                    ...  \n",
       "11284             SanDiego  \n",
       "11964               Albany  \n",
       "5390              Syracuse  \n",
       "860     HarrisburgScranton  \n",
       "15795         Indianapolis  \n",
       "\n",
       "[12226 rows x 13 columns]"
      ]
     },
     "execution_count": 31,
     "metadata": {},
     "output_type": "execute_result"
    }
   ],
   "source": [
    "train_set"
   ]
  },
  {
   "cell_type": "code",
   "execution_count": 32,
   "metadata": {},
   "outputs": [],
   "source": [
    "# split inputs and output (AveragePrice)\n",
    "df_labels = train_set['AveragePrice'].copy()\n",
    "df_tr = train_set.drop('AveragePrice', axis=1)"
   ]
  },
  {
   "cell_type": "code",
   "execution_count": 34,
   "metadata": {},
   "outputs": [
    {
     "data": {
      "text/html": [
       "<div>\n",
       "<style scoped>\n",
       "    .dataframe tbody tr th:only-of-type {\n",
       "        vertical-align: middle;\n",
       "    }\n",
       "\n",
       "    .dataframe tbody tr th {\n",
       "        vertical-align: top;\n",
       "    }\n",
       "\n",
       "    .dataframe thead th {\n",
       "        text-align: right;\n",
       "    }\n",
       "</style>\n",
       "<table border=\"1\" class=\"dataframe\">\n",
       "  <thead>\n",
       "    <tr style=\"text-align: right;\">\n",
       "      <th></th>\n",
       "      <th>Date</th>\n",
       "      <th>Total Volume</th>\n",
       "      <th>4046</th>\n",
       "      <th>4225</th>\n",
       "      <th>4770</th>\n",
       "      <th>Total Bags</th>\n",
       "      <th>Small Bags</th>\n",
       "      <th>Large Bags</th>\n",
       "      <th>XLarge Bags</th>\n",
       "      <th>type</th>\n",
       "      <th>year</th>\n",
       "      <th>region</th>\n",
       "    </tr>\n",
       "  </thead>\n",
       "  <tbody>\n",
       "    <tr>\n",
       "      <th>7660</th>\n",
       "      <td>2017-06-04</td>\n",
       "      <td>12.472477</td>\n",
       "      <td>11.137600</td>\n",
       "      <td>11.594849</td>\n",
       "      <td>7.813212</td>\n",
       "      <td>11.306376</td>\n",
       "      <td>11.262460</td>\n",
       "      <td>7.456316</td>\n",
       "      <td>7.476472</td>\n",
       "      <td>conventional</td>\n",
       "      <td>2017</td>\n",
       "      <td>RichmondNorfolk</td>\n",
       "    </tr>\n",
       "    <tr>\n",
       "      <th>3837</th>\n",
       "      <td>2016-03-13</td>\n",
       "      <td>12.095521</td>\n",
       "      <td>9.386337</td>\n",
       "      <td>11.489967</td>\n",
       "      <td>9.782157</td>\n",
       "      <td>10.853243</td>\n",
       "      <td>10.261637</td>\n",
       "      <td>9.866776</td>\n",
       "      <td>8.245608</td>\n",
       "      <td>conventional</td>\n",
       "      <td>2016</td>\n",
       "      <td>Indianapolis</td>\n",
       "    </tr>\n",
       "    <tr>\n",
       "      <th>2582</th>\n",
       "      <td>2015-05-03</td>\n",
       "      <td>10.831556</td>\n",
       "      <td>6.454585</td>\n",
       "      <td>10.094210</td>\n",
       "      <td>2.986187</td>\n",
       "      <td>10.155704</td>\n",
       "      <td>10.142768</td>\n",
       "      <td>5.804532</td>\n",
       "      <td>0.000000</td>\n",
       "      <td>conventional</td>\n",
       "      <td>2015</td>\n",
       "      <td>Syracuse</td>\n",
       "    </tr>\n",
       "    <tr>\n",
       "      <th>15670</th>\n",
       "      <td>2017-06-18</td>\n",
       "      <td>10.075469</td>\n",
       "      <td>6.311699</td>\n",
       "      <td>9.548481</td>\n",
       "      <td>2.061787</td>\n",
       "      <td>9.124118</td>\n",
       "      <td>9.038314</td>\n",
       "      <td>6.627155</td>\n",
       "      <td>0.000000</td>\n",
       "      <td>organic</td>\n",
       "      <td>2017</td>\n",
       "      <td>HartfordSpringfield</td>\n",
       "    </tr>\n",
       "    <tr>\n",
       "      <th>15376</th>\n",
       "      <td>2017-01-01</td>\n",
       "      <td>9.659557</td>\n",
       "      <td>8.321585</td>\n",
       "      <td>5.746555</td>\n",
       "      <td>0.000000</td>\n",
       "      <td>9.327951</td>\n",
       "      <td>9.318150</td>\n",
       "      <td>4.706824</td>\n",
       "      <td>0.000000</td>\n",
       "      <td>organic</td>\n",
       "      <td>2017</td>\n",
       "      <td>DallasFtWorth</td>\n",
       "    </tr>\n",
       "    <tr>\n",
       "      <th>...</th>\n",
       "      <td>...</td>\n",
       "      <td>...</td>\n",
       "      <td>...</td>\n",
       "      <td>...</td>\n",
       "      <td>...</td>\n",
       "      <td>...</td>\n",
       "      <td>...</td>\n",
       "      <td>...</td>\n",
       "      <td>...</td>\n",
       "      <td>...</td>\n",
       "      <td>...</td>\n",
       "      <td>...</td>\n",
       "    </tr>\n",
       "    <tr>\n",
       "      <th>11284</th>\n",
       "      <td>2015-06-28</td>\n",
       "      <td>9.468670</td>\n",
       "      <td>7.782870</td>\n",
       "      <td>9.230842</td>\n",
       "      <td>0.000000</td>\n",
       "      <td>5.838809</td>\n",
       "      <td>5.838809</td>\n",
       "      <td>0.000000</td>\n",
       "      <td>0.000000</td>\n",
       "      <td>organic</td>\n",
       "      <td>2015</td>\n",
       "      <td>SanDiego</td>\n",
       "    </tr>\n",
       "    <tr>\n",
       "      <th>11964</th>\n",
       "      <td>2016-05-22</td>\n",
       "      <td>7.085115</td>\n",
       "      <td>3.322154</td>\n",
       "      <td>5.849872</td>\n",
       "      <td>0.000000</td>\n",
       "      <td>6.710706</td>\n",
       "      <td>6.710706</td>\n",
       "      <td>0.000000</td>\n",
       "      <td>0.000000</td>\n",
       "      <td>organic</td>\n",
       "      <td>2016</td>\n",
       "      <td>Albany</td>\n",
       "    </tr>\n",
       "    <tr>\n",
       "      <th>5390</th>\n",
       "      <td>2016-05-01</td>\n",
       "      <td>11.331508</td>\n",
       "      <td>6.900972</td>\n",
       "      <td>10.914206</td>\n",
       "      <td>6.646481</td>\n",
       "      <td>10.192303</td>\n",
       "      <td>10.192303</td>\n",
       "      <td>0.000000</td>\n",
       "      <td>0.000000</td>\n",
       "      <td>conventional</td>\n",
       "      <td>2016</td>\n",
       "      <td>Syracuse</td>\n",
       "    </tr>\n",
       "    <tr>\n",
       "      <th>860</th>\n",
       "      <td>2015-06-14</td>\n",
       "      <td>12.533864</td>\n",
       "      <td>10.663526</td>\n",
       "      <td>11.852285</td>\n",
       "      <td>7.615451</td>\n",
       "      <td>11.433684</td>\n",
       "      <td>11.384564</td>\n",
       "      <td>7.945346</td>\n",
       "      <td>7.382535</td>\n",
       "      <td>conventional</td>\n",
       "      <td>2015</td>\n",
       "      <td>HarrisburgScranton</td>\n",
       "    </tr>\n",
       "    <tr>\n",
       "      <th>15795</th>\n",
       "      <td>2017-02-05</td>\n",
       "      <td>8.175387</td>\n",
       "      <td>6.343898</td>\n",
       "      <td>7.252288</td>\n",
       "      <td>0.000000</td>\n",
       "      <td>7.361433</td>\n",
       "      <td>6.867319</td>\n",
       "      <td>6.421167</td>\n",
       "      <td>0.000000</td>\n",
       "      <td>organic</td>\n",
       "      <td>2017</td>\n",
       "      <td>Indianapolis</td>\n",
       "    </tr>\n",
       "  </tbody>\n",
       "</table>\n",
       "<p>12226 rows × 12 columns</p>\n",
       "</div>"
      ],
      "text/plain": [
       "             Date  Total Volume       4046       4225      4770  Total Bags  \\\n",
       "7660   2017-06-04     12.472477  11.137600  11.594849  7.813212   11.306376   \n",
       "3837   2016-03-13     12.095521   9.386337  11.489967  9.782157   10.853243   \n",
       "2582   2015-05-03     10.831556   6.454585  10.094210  2.986187   10.155704   \n",
       "15670  2017-06-18     10.075469   6.311699   9.548481  2.061787    9.124118   \n",
       "15376  2017-01-01      9.659557   8.321585   5.746555  0.000000    9.327951   \n",
       "...           ...           ...        ...        ...       ...         ...   \n",
       "11284  2015-06-28      9.468670   7.782870   9.230842  0.000000    5.838809   \n",
       "11964  2016-05-22      7.085115   3.322154   5.849872  0.000000    6.710706   \n",
       "5390   2016-05-01     11.331508   6.900972  10.914206  6.646481   10.192303   \n",
       "860    2015-06-14     12.533864  10.663526  11.852285  7.615451   11.433684   \n",
       "15795  2017-02-05      8.175387   6.343898   7.252288  0.000000    7.361433   \n",
       "\n",
       "       Small Bags  Large Bags  XLarge Bags          type  year  \\\n",
       "7660    11.262460    7.456316     7.476472  conventional  2017   \n",
       "3837    10.261637    9.866776     8.245608  conventional  2016   \n",
       "2582    10.142768    5.804532     0.000000  conventional  2015   \n",
       "15670    9.038314    6.627155     0.000000       organic  2017   \n",
       "15376    9.318150    4.706824     0.000000       organic  2017   \n",
       "...           ...         ...          ...           ...   ...   \n",
       "11284    5.838809    0.000000     0.000000       organic  2015   \n",
       "11964    6.710706    0.000000     0.000000       organic  2016   \n",
       "5390    10.192303    0.000000     0.000000  conventional  2016   \n",
       "860     11.384564    7.945346     7.382535  conventional  2015   \n",
       "15795    6.867319    6.421167     0.000000       organic  2017   \n",
       "\n",
       "                    region  \n",
       "7660       RichmondNorfolk  \n",
       "3837          Indianapolis  \n",
       "2582              Syracuse  \n",
       "15670  HartfordSpringfield  \n",
       "15376        DallasFtWorth  \n",
       "...                    ...  \n",
       "11284             SanDiego  \n",
       "11964               Albany  \n",
       "5390              Syracuse  \n",
       "860     HarrisburgScranton  \n",
       "15795         Indianapolis  \n",
       "\n",
       "[12226 rows x 12 columns]"
      ]
     },
     "execution_count": 34,
     "metadata": {},
     "output_type": "execute_result"
    }
   ],
   "source": [
    "df_tr"
   ]
  },
  {
   "cell_type": "code",
   "execution_count": 35,
   "metadata": {},
   "outputs": [],
   "source": [
    "# split numerical and categorical columns\n",
    "df_num = df_tr.drop(['type','Date','region'], axis=1)\n",
    "df_cat = df_tr[['type']]\n",
    "df_region = df_tr[['region']]"
   ]
  },
  {
   "cell_type": "code",
   "execution_count": 36,
   "metadata": {},
   "outputs": [
    {
     "data": {
      "text/html": [
       "<div>\n",
       "<style scoped>\n",
       "    .dataframe tbody tr th:only-of-type {\n",
       "        vertical-align: middle;\n",
       "    }\n",
       "\n",
       "    .dataframe tbody tr th {\n",
       "        vertical-align: top;\n",
       "    }\n",
       "\n",
       "    .dataframe thead th {\n",
       "        text-align: right;\n",
       "    }\n",
       "</style>\n",
       "<table border=\"1\" class=\"dataframe\">\n",
       "  <thead>\n",
       "    <tr style=\"text-align: right;\">\n",
       "      <th></th>\n",
       "      <th>type</th>\n",
       "    </tr>\n",
       "  </thead>\n",
       "  <tbody>\n",
       "    <tr>\n",
       "      <th>7660</th>\n",
       "      <td>conventional</td>\n",
       "    </tr>\n",
       "    <tr>\n",
       "      <th>3837</th>\n",
       "      <td>conventional</td>\n",
       "    </tr>\n",
       "    <tr>\n",
       "      <th>2582</th>\n",
       "      <td>conventional</td>\n",
       "    </tr>\n",
       "    <tr>\n",
       "      <th>15670</th>\n",
       "      <td>organic</td>\n",
       "    </tr>\n",
       "    <tr>\n",
       "      <th>15376</th>\n",
       "      <td>organic</td>\n",
       "    </tr>\n",
       "    <tr>\n",
       "      <th>...</th>\n",
       "      <td>...</td>\n",
       "    </tr>\n",
       "    <tr>\n",
       "      <th>11284</th>\n",
       "      <td>organic</td>\n",
       "    </tr>\n",
       "    <tr>\n",
       "      <th>11964</th>\n",
       "      <td>organic</td>\n",
       "    </tr>\n",
       "    <tr>\n",
       "      <th>5390</th>\n",
       "      <td>conventional</td>\n",
       "    </tr>\n",
       "    <tr>\n",
       "      <th>860</th>\n",
       "      <td>conventional</td>\n",
       "    </tr>\n",
       "    <tr>\n",
       "      <th>15795</th>\n",
       "      <td>organic</td>\n",
       "    </tr>\n",
       "  </tbody>\n",
       "</table>\n",
       "<p>12226 rows × 1 columns</p>\n",
       "</div>"
      ],
      "text/plain": [
       "               type\n",
       "7660   conventional\n",
       "3837   conventional\n",
       "2582   conventional\n",
       "15670       organic\n",
       "15376       organic\n",
       "...             ...\n",
       "11284       organic\n",
       "11964       organic\n",
       "5390   conventional\n",
       "860    conventional\n",
       "15795       organic\n",
       "\n",
       "[12226 rows x 1 columns]"
      ]
     },
     "execution_count": 36,
     "metadata": {},
     "output_type": "execute_result"
    }
   ],
   "source": [
    "df_cat"
   ]
  },
  {
   "cell_type": "code",
   "execution_count": 37,
   "metadata": {},
   "outputs": [
    {
     "data": {
      "text/html": [
       "<div>\n",
       "<style scoped>\n",
       "    .dataframe tbody tr th:only-of-type {\n",
       "        vertical-align: middle;\n",
       "    }\n",
       "\n",
       "    .dataframe tbody tr th {\n",
       "        vertical-align: top;\n",
       "    }\n",
       "\n",
       "    .dataframe thead th {\n",
       "        text-align: right;\n",
       "    }\n",
       "</style>\n",
       "<table border=\"1\" class=\"dataframe\">\n",
       "  <thead>\n",
       "    <tr style=\"text-align: right;\">\n",
       "      <th></th>\n",
       "      <th>region</th>\n",
       "    </tr>\n",
       "  </thead>\n",
       "  <tbody>\n",
       "    <tr>\n",
       "      <th>7660</th>\n",
       "      <td>RichmondNorfolk</td>\n",
       "    </tr>\n",
       "    <tr>\n",
       "      <th>3837</th>\n",
       "      <td>Indianapolis</td>\n",
       "    </tr>\n",
       "    <tr>\n",
       "      <th>2582</th>\n",
       "      <td>Syracuse</td>\n",
       "    </tr>\n",
       "    <tr>\n",
       "      <th>15670</th>\n",
       "      <td>HartfordSpringfield</td>\n",
       "    </tr>\n",
       "    <tr>\n",
       "      <th>15376</th>\n",
       "      <td>DallasFtWorth</td>\n",
       "    </tr>\n",
       "    <tr>\n",
       "      <th>...</th>\n",
       "      <td>...</td>\n",
       "    </tr>\n",
       "    <tr>\n",
       "      <th>11284</th>\n",
       "      <td>SanDiego</td>\n",
       "    </tr>\n",
       "    <tr>\n",
       "      <th>11964</th>\n",
       "      <td>Albany</td>\n",
       "    </tr>\n",
       "    <tr>\n",
       "      <th>5390</th>\n",
       "      <td>Syracuse</td>\n",
       "    </tr>\n",
       "    <tr>\n",
       "      <th>860</th>\n",
       "      <td>HarrisburgScranton</td>\n",
       "    </tr>\n",
       "    <tr>\n",
       "      <th>15795</th>\n",
       "      <td>Indianapolis</td>\n",
       "    </tr>\n",
       "  </tbody>\n",
       "</table>\n",
       "<p>12226 rows × 1 columns</p>\n",
       "</div>"
      ],
      "text/plain": [
       "                    region\n",
       "7660       RichmondNorfolk\n",
       "3837          Indianapolis\n",
       "2582              Syracuse\n",
       "15670  HartfordSpringfield\n",
       "15376        DallasFtWorth\n",
       "...                    ...\n",
       "11284             SanDiego\n",
       "11964               Albany\n",
       "5390              Syracuse\n",
       "860     HarrisburgScranton\n",
       "15795         Indianapolis\n",
       "\n",
       "[12226 rows x 1 columns]"
      ]
     },
     "execution_count": 37,
     "metadata": {},
     "output_type": "execute_result"
    }
   ],
   "source": [
    "df_region"
   ]
  },
  {
   "cell_type": "code",
   "execution_count": 38,
   "metadata": {},
   "outputs": [],
   "source": [
    "# generate numerical pipeline to take care of missing values and scale the dataset\n",
    "from sklearn.impute import SimpleImputer\n",
    "from sklearn.pipeline import Pipeline\n",
    "from sklearn.preprocessing import StandardScaler\n",
    "from sklearn.preprocessing import OneHotEncoder\n",
    "from sklearn.compose import ColumnTransformer\n",
    "\n",
    "num_pipeline = Pipeline([\n",
    "        ('imputer', SimpleImputer(strategy=\"median\")),\n",
    "        ('std_scaler', StandardScaler()),\n",
    "    ])"
   ]
  },
  {
   "cell_type": "code",
   "execution_count": 40,
   "metadata": {},
   "outputs": [],
   "source": [
    "# generate full pipeline to take care of numerical and categorical data (use OneHotEncoder)\n",
    "num_attribs = list(df_num)\n",
    "cat_attribs = [\"type\"]\n",
    "region_attrib = list(df_region)\n",
    "\n",
    "full_pipeline = ColumnTransformer([\n",
    "        (\"num\", num_pipeline, num_attribs),\n",
    "        (\"cat\", OneHotEncoder(), cat_attribs),\n",
    "        (\"matrix\", OneHotEncoder(), region_attrib),\n",
    "    ])"
   ]
  },
  {
   "cell_type": "code",
   "execution_count": 41,
   "metadata": {},
   "outputs": [],
   "source": [
    "# apply full pipeline to training set and prepare the data for training ML model\n",
    "df_tr_prepared = full_pipeline.fit_transform(df_tr)"
   ]
  },
  {
   "cell_type": "code",
   "execution_count": 42,
   "metadata": {},
   "outputs": [
    {
     "data": {
      "text/plain": [
       "array([[ 4.97554364e-01,  6.29647458e-01,  6.16596117e-01, ...,\n",
       "         0.00000000e+00,  0.00000000e+00,  0.00000000e+00],\n",
       "       [ 3.33319092e-01,  1.09767157e-01,  5.79769148e-01, ...,\n",
       "         0.00000000e+00,  0.00000000e+00,  0.00000000e+00],\n",
       "       [-2.17375697e-01, -7.60553082e-01,  8.96781432e-02, ...,\n",
       "         0.00000000e+00,  0.00000000e+00,  0.00000000e+00],\n",
       "       ...,\n",
       "       [ 4.47385979e-04, -6.28038529e-01,  3.77602663e-01, ...,\n",
       "         0.00000000e+00,  0.00000000e+00,  0.00000000e+00],\n",
       "       [ 5.24300060e-01,  4.88913608e-01,  7.06989358e-01, ...,\n",
       "         0.00000000e+00,  0.00000000e+00,  0.00000000e+00],\n",
       "       [-1.37463777e+00, -7.93411687e-01, -9.08203096e-01, ...,\n",
       "         0.00000000e+00,  0.00000000e+00,  0.00000000e+00]])"
      ]
     },
     "execution_count": 42,
     "metadata": {},
     "output_type": "execute_result"
    }
   ],
   "source": [
    "df_tr_prepared.toarray()"
   ]
  },
  {
   "cell_type": "code",
   "execution_count": 46,
   "metadata": {},
   "outputs": [
    {
     "data": {
      "text/plain": [
       "LinearRegression()"
      ]
     },
     "execution_count": 46,
     "metadata": {},
     "output_type": "execute_result"
    }
   ],
   "source": [
    "# use prepared data and output and train a linear regression model\n",
    "from sklearn.linear_model import LinearRegression\n",
    "\n",
    "lin_reg = LinearRegression()\n",
    "lin_reg.fit(df_tr_prepared, df_labels)\n",
    "\n",
    "# use prepared data and output and train a second degree polynomial regression model\n",
    "from sklearn.preprocessing import PolynomialFeatures\n",
    "\n",
    "poly_2_features = PolynomialFeatures(degree=2, include_bias=False)\n",
    "df_prepared_poly_2 = poly_2_features.fit_transform(df_tr_prepared)\n",
    "\n",
    "poly_reg_2 = LinearRegression()\n",
    "poly_reg_2.fit(df_prepared_poly_2, df_labels)"
   ]
  },
  {
   "cell_type": "code",
   "execution_count": 47,
   "metadata": {},
   "outputs": [],
   "source": [
    "##################### use prepared data and output and train a third degree polynomial regression model#################"
   ]
  },
  {
   "cell_type": "code",
   "execution_count": 48,
   "metadata": {},
   "outputs": [],
   "source": [
    "df_tr_predictions = lin_reg.predict(df_tr_prepared)"
   ]
  },
  {
   "cell_type": "code",
   "execution_count": 49,
   "metadata": {},
   "outputs": [
    {
     "data": {
      "text/plain": [
       "0.22494290448245494"
      ]
     },
     "execution_count": 49,
     "metadata": {},
     "output_type": "execute_result"
    }
   ],
   "source": [
    "from sklearn.metrics import mean_squared_error\n",
    "import numpy as np\n",
    "\n",
    "lin_mse = mean_squared_error(df_labels, df_tr_predictions)\n",
    "lin_rmse = np.sqrt(lin_mse)\n",
    "lin_rmse"
   ]
  },
  {
   "cell_type": "code",
   "execution_count": 51,
   "metadata": {},
   "outputs": [],
   "source": [
    "# prepare the test set to test the trained model\n",
    "df_tr_prepared_poly_2 = poly_2_features.fit_transform(df_tr_prepared)\n",
    "\n",
    "# use trained second degree regression model and perform prediction on the prepared test set\n",
    "df_tr_predictions_2 = poly_reg_2.predict(df_tr_prepared_poly_2)"
   ]
  },
  {
   "cell_type": "code",
   "execution_count": 52,
   "metadata": {},
   "outputs": [
    {
     "data": {
      "text/plain": [
       "0.16105286409876726"
      ]
     },
     "execution_count": 52,
     "metadata": {},
     "output_type": "execute_result"
    }
   ],
   "source": [
    "# calculate rmse for tested model\n",
    "poly_2_mse = mean_squared_error(df_labels, df_tr_predictions_2)\n",
    "poly_2_rmse = np.sqrt(poly_2_mse)\n",
    "poly_2_rmse"
   ]
  },
  {
   "cell_type": "code",
   "execution_count": 53,
   "metadata": {},
   "outputs": [
    {
     "data": {
      "text/plain": [
       "Ridge(alpha=1.2, fit_intercept=False, solver='cholesky')"
      ]
     },
     "execution_count": 53,
     "metadata": {},
     "output_type": "execute_result"
    }
   ],
   "source": [
    "# train a second degree ridge regression on prepared data\n",
    "from sklearn.linear_model import Ridge\n",
    "ridge_reg_2 = Ridge(alpha=1.2, solver=\"cholesky\", fit_intercept=False)\n",
    "ridge_reg_2.fit(df_prepared_poly_2, df_labels)"
   ]
  },
  {
   "cell_type": "code",
   "execution_count": 54,
   "metadata": {},
   "outputs": [],
   "source": [
    "# use second degree ridge regression and do prediction on prepared test set\n",
    "df_tr_ridge_predictions_2 = ridge_reg_2.predict(df_tr_prepared_poly_2)"
   ]
  },
  {
   "cell_type": "code",
   "execution_count": 55,
   "metadata": {},
   "outputs": [
    {
     "data": {
      "text/plain": [
       "0.16586268504929194"
      ]
     },
     "execution_count": 55,
     "metadata": {},
     "output_type": "execute_result"
    }
   ],
   "source": [
    "# calculate RMSE\n",
    "# if the RMSE is not satisfying, go back, use different alpha (between 0 and 1) and try to find the best alpha (alpha which result in smallest RMSE)\n",
    "ridge_poly_2_mse = mean_squared_error(df_labels, df_tr_ridge_predictions_2)\n",
    "ridge_poly_2_rmse = np.sqrt(ridge_poly_2_mse)\n",
    "ridge_poly_2_rmse"
   ]
  },
  {
   "cell_type": "code",
   "execution_count": 56,
   "metadata": {},
   "outputs": [
    {
     "data": {
      "text/plain": [
       "ElasticNet(alpha=0.001, l1_ratio=0.1)"
      ]
     },
     "execution_count": 56,
     "metadata": {},
     "output_type": "execute_result"
    }
   ],
   "source": [
    "# train a second degree elastic net on prepared data\n",
    "from sklearn.linear_model import ElasticNet\n",
    "elastic_net = ElasticNet(alpha=0.001, l1_ratio=0.1)\n",
    "elastic_net.fit(df_prepared_poly_2, df_labels)"
   ]
  },
  {
   "cell_type": "code",
   "execution_count": 57,
   "metadata": {},
   "outputs": [],
   "source": [
    "#  use second degree elastic net and do prediction on prepared test set\n",
    "df_tr_elastic_predictions_2 = elastic_net.predict(df_tr_prepared_poly_2)"
   ]
  },
  {
   "cell_type": "code",
   "execution_count": 58,
   "metadata": {},
   "outputs": [
    {
     "data": {
      "text/plain": [
       "0.18750071539374544"
      ]
     },
     "execution_count": 58,
     "metadata": {},
     "output_type": "execute_result"
    }
   ],
   "source": [
    "# calculate RMSE\n",
    "# if the RMSE is not satisfying, go back, use different alpha (between 0 and 1) and l1_ratio (between 0 and 1) and try to find the best alpha/l1_ratio (alpha/l1_ratio which result in smallest RMSE)\n",
    "elastic_poly_2_mse = mean_squared_error(df_labels, df_tr_elastic_predictions_2)\n",
    "elastic_poly_2_rmse = np.sqrt(elastic_poly_2_mse)\n",
    "elastic_poly_2_rmse"
   ]
  },
  {
   "cell_type": "code",
   "execution_count": 59,
   "metadata": {},
   "outputs": [],
   "source": [
    "# prepare the test set to test the trained model\n",
    "df_test = test_set.drop(\"AveragePrice\", axis=1)\n",
    "df_test_labels = test_set[\"AveragePrice\"].copy()\n",
    "\n",
    "df_test_prepared = full_pipeline.fit_transform(df_test)"
   ]
  },
  {
   "cell_type": "code",
   "execution_count": 60,
   "metadata": {},
   "outputs": [],
   "source": [
    "# use trained linear regression model and perform prediction on the prepared test set\n",
    "df_test_predictions = lin_reg.predict(df_test_prepared)"
   ]
  },
  {
   "cell_type": "code",
   "execution_count": 61,
   "metadata": {},
   "outputs": [
    {
     "data": {
      "text/plain": [
       "0.2263915108805546"
      ]
     },
     "execution_count": 61,
     "metadata": {},
     "output_type": "execute_result"
    }
   ],
   "source": [
    "# calculate rmse for tested model\n",
    "from sklearn.metrics import mean_squared_error\n",
    "import numpy as np\n",
    "\n",
    "lin_mse = mean_squared_error(df_test_labels, df_test_predictions)\n",
    "lin_rmse = np.sqrt(lin_mse)\n",
    "lin_rmse"
   ]
  },
  {
   "cell_type": "code",
   "execution_count": 64,
   "metadata": {},
   "outputs": [
    {
     "data": {
      "text/plain": [
       "0.17470064503646932"
      ]
     },
     "execution_count": 64,
     "metadata": {},
     "output_type": "execute_result"
    }
   ],
   "source": [
    "# prepare the test set to test the trained model\n",
    "df_test_prepared_poly_2 = poly_2_features.fit_transform(df_test_prepared)\n",
    "\n",
    "# use trained second degree regression model and perform prediction on the prepared test set\n",
    "df_test_predictions_2 = poly_reg_2.predict(df_test_prepared_poly_2)\n",
    "\n",
    "# calculate rmse for tested model\n",
    "poly_2_mse = mean_squared_error(df_test_labels, df_test_predictions_2)\n",
    "poly_2_rmse = np.sqrt(poly_2_mse)\n",
    "poly_2_rmse"
   ]
  },
  {
   "cell_type": "code",
   "execution_count": 65,
   "metadata": {},
   "outputs": [
    {
     "data": {
      "text/plain": [
       "Ridge(alpha=0.8, fit_intercept=False, solver='cholesky')"
      ]
     },
     "execution_count": 65,
     "metadata": {},
     "output_type": "execute_result"
    }
   ],
   "source": [
    "# train a second degree ridge regression on prepared data\n",
    "from sklearn.linear_model import Ridge\n",
    "ridge_reg_2 = Ridge(alpha=0.8, solver=\"cholesky\", fit_intercept=False)\n",
    "ridge_reg_2.fit(df_prepared_poly_2, df_labels)"
   ]
  },
  {
   "cell_type": "code",
   "execution_count": 68,
   "metadata": {},
   "outputs": [
    {
     "data": {
      "text/plain": [
       "0.173737174136103"
      ]
     },
     "execution_count": 68,
     "metadata": {},
     "output_type": "execute_result"
    }
   ],
   "source": [
    "# use second degree ridge regression and do prediction on prepared test set\n",
    "df_test_ridge_predictions_2 = ridge_reg_2.predict(df_test_prepared_poly_2)\n",
    "\n",
    "# calculate RMSE\n",
    "# if the RMSE is not satisfying, go back, use different alpha (between 0 and 1) and try to find the best alpha (alpha which result in smallest RMSE)\n",
    "ridge_poly_2_mse = mean_squared_error(df_test_labels, df_test_ridge_predictions_2)\n",
    "ridge_poly_2_rmse = np.sqrt(ridge_poly_2_mse)\n",
    "ridge_poly_2_rmse\n",
    "\n"
   ]
  },
  {
   "cell_type": "code",
   "execution_count": 69,
   "metadata": {},
   "outputs": [
    {
     "data": {
      "text/plain": [
       "ElasticNet(alpha=0.001, l1_ratio=0.1)"
      ]
     },
     "execution_count": 69,
     "metadata": {},
     "output_type": "execute_result"
    }
   ],
   "source": [
    "# train a second degree elastic net on prepared data\n",
    "from sklearn.linear_model import ElasticNet\n",
    "elastic_net = ElasticNet(alpha=0.001, l1_ratio=0.1)\n",
    "elastic_net.fit(df_prepared_poly_2, df_labels)"
   ]
  },
  {
   "cell_type": "code",
   "execution_count": 71,
   "metadata": {},
   "outputs": [
    {
     "data": {
      "text/plain": [
       "0.1917381453775365"
      ]
     },
     "execution_count": 71,
     "metadata": {},
     "output_type": "execute_result"
    }
   ],
   "source": [
    "# use second degree elastic net and do prediction on prepared test set\n",
    "df_test_elastic_predictions_2 = elastic_net.predict(df_test_prepared_poly_2)\n",
    "\n",
    "# calculate RMSE\n",
    "# if the RMSE is not satisfying, go back, use different alpha (between 0 and 1) and l1_ratio (between 0 and 1) and try to find the best alpha/l1_ratio (alpha/l1_ratio which result in smallest RMSE)\n",
    "elastic_poly_2_mse = mean_squared_error(df_test_labels, df_test_elastic_predictions_2)\n",
    "elastic_poly_2_rmse = np.sqrt(elastic_poly_2_mse)\n",
    "elastic_poly_2_rmse"
   ]
  },
  {
   "cell_type": "code",
   "execution_count": 72,
   "metadata": {},
   "outputs": [
    {
     "data": {
      "text/plain": [
       "RandomForestRegressor(n_estimators=500, random_state=42)"
      ]
     },
     "execution_count": 72,
     "metadata": {},
     "output_type": "execute_result"
    }
   ],
   "source": [
    "from sklearn.ensemble import RandomForestRegressor\n",
    "\n",
    "forest_reg = RandomForestRegressor(n_estimators=500, random_state=42)\n",
    "forest_reg.fit(df_tr_prepared, df_labels)"
   ]
  },
  {
   "cell_type": "code",
   "execution_count": 73,
   "metadata": {},
   "outputs": [
    {
     "data": {
      "text/plain": [
       "0.05774693803948714"
      ]
     },
     "execution_count": 73,
     "metadata": {},
     "output_type": "execute_result"
    }
   ],
   "source": [
    "from sklearn.metrics import mean_squared_error\n",
    "import numpy as np\n",
    "\n",
    "df_predictions = forest_reg.predict(df_tr_prepared)\n",
    "forest_mse = mean_squared_error(df_labels, df_predictions)\n",
    "forest_rmse = np.sqrt(forest_mse)\n",
    "forest_rmse"
   ]
  },
  {
   "cell_type": "code",
   "execution_count": 74,
   "metadata": {},
   "outputs": [
    {
     "data": {
      "text/plain": [
       "0.15768996750997108"
      ]
     },
     "execution_count": 74,
     "metadata": {},
     "output_type": "execute_result"
    }
   ],
   "source": [
    "df_test_predictions = forest_reg.predict(df_test_prepared)\n",
    "forest_mse = mean_squared_error(df_test_labels, df_test_predictions)\n",
    "forest_rmse = np.sqrt(forest_mse)\n",
    "forest_rmse"
   ]
  },
  {
   "cell_type": "code",
   "execution_count": 75,
   "metadata": {},
   "outputs": [],
   "source": [
    "def display_scores(scores):\n",
    "    print('Scores:', scores)\n",
    "    print('Mean:', scores.mean())\n",
    "    print('Standard Deviation:', scores.std())"
   ]
  },
  {
   "cell_type": "code",
   "execution_count": 76,
   "metadata": {},
   "outputs": [
    {
     "name": "stdout",
     "output_type": "stream",
     "text": [
      "Scores: [0.16357056 0.15757987 0.15977001 0.16636587 0.16327356]\n",
      "Mean: 0.1621119735623932\n",
      "Standard Deviation: 0.003085356278320656\n"
     ]
    }
   ],
   "source": [
    "from sklearn.model_selection import cross_val_score\n",
    "\n",
    "forest_scores = cross_val_score(forest_reg, df_tr_prepared, df_labels,\n",
    "                                scoring=\"neg_mean_squared_error\", cv=5)\n",
    "forest_rmse_scores = np.sqrt(-forest_scores)\n",
    "display_scores(forest_rmse_scores)"
   ]
  },
  {
   "cell_type": "code",
   "execution_count": 78,
   "metadata": {},
   "outputs": [
    {
     "data": {
      "text/plain": [
       "GridSearchCV(cv=3, estimator=RandomForestRegressor(random_state=42),\n",
       "             param_grid=[{'bootstrap': [False], 'max_features': [30, 40, 70],\n",
       "                          'n_estimators': [10, 100]}],\n",
       "             return_train_score=True, scoring='neg_mean_squared_error')"
      ]
     },
     "execution_count": 78,
     "metadata": {},
     "output_type": "execute_result"
    }
   ],
   "source": [
    "from sklearn.model_selection import GridSearchCV\n",
    "\n",
    "param_grid = [\n",
    "    #### try 12 (3×4) combinations of hyperparameters\n",
    "    #{'n_estimators': [10, 100, 300], 'max_features': [2, 4, 6, 8]},\n",
    "    #### then try 6 (2×3) combinations with bootstrap set as False\n",
    "    {'bootstrap': [False], 'n_estimators': [10, 100], 'max_features': [30,40,70]},\n",
    "  ]\n",
    "\n",
    "forest_reg = RandomForestRegressor(random_state=42)\n",
    "#### train across 5 folds, that's a total of (12+6)*5=90 rounds of training \n",
    "grid_search = GridSearchCV(forest_reg, param_grid, cv=3,\n",
    "                           scoring='neg_mean_squared_error',\n",
    "                           return_train_score=True)\n",
    "grid_search.fit(df_tr_prepared, df_labels)"
   ]
  },
  {
   "cell_type": "code",
   "execution_count": 79,
   "metadata": {},
   "outputs": [
    {
     "data": {
      "text/plain": [
       "{'bootstrap': False, 'max_features': 30, 'n_estimators': 100}"
      ]
     },
     "execution_count": 79,
     "metadata": {},
     "output_type": "execute_result"
    }
   ],
   "source": [
    "grid_search.best_params_"
   ]
  },
  {
   "cell_type": "code",
   "execution_count": 80,
   "metadata": {},
   "outputs": [
    {
     "data": {
      "text/plain": [
       "RandomForestRegressor(bootstrap=False, max_features=30, random_state=42)"
      ]
     },
     "execution_count": 80,
     "metadata": {},
     "output_type": "execute_result"
    }
   ],
   "source": [
    "grid_search.best_estimator_"
   ]
  },
  {
   "cell_type": "code",
   "execution_count": 81,
   "metadata": {},
   "outputs": [
    {
     "name": "stdout",
     "output_type": "stream",
     "text": [
      "0.169807524877185 {'bootstrap': False, 'max_features': 30, 'n_estimators': 10}\n",
      "0.16169136514743623 {'bootstrap': False, 'max_features': 30, 'n_estimators': 100}\n",
      "0.173116497711349 {'bootstrap': False, 'max_features': 40, 'n_estimators': 10}\n",
      "0.16435381826712686 {'bootstrap': False, 'max_features': 40, 'n_estimators': 100}\n",
      "nan {'bootstrap': False, 'max_features': 70, 'n_estimators': 10}\n",
      "nan {'bootstrap': False, 'max_features': 70, 'n_estimators': 100}\n"
     ]
    }
   ],
   "source": [
    "cvres = grid_search.cv_results_\n",
    "for mean_score, params in zip(cvres[\"mean_test_score\"], cvres[\"params\"]):\n",
    "    print(np.sqrt(-mean_score), params)"
   ]
  },
  {
   "cell_type": "code",
   "execution_count": 83,
   "metadata": {},
   "outputs": [
    {
     "data": {
      "text/plain": [
       "array([9.32589078e-02, 9.74934363e-02, 7.07225182e-02, 3.64611464e-02,\n",
       "       6.50544471e-02, 6.35899427e-02, 8.05233464e-02, 1.54367817e-02,\n",
       "       4.87159900e-02, 1.67746625e-01, 1.40417465e-01, 4.93592365e-04,\n",
       "       9.13843811e-04, 5.20921604e-04, 2.02054548e-03, 1.47916043e-03,\n",
       "       2.78357464e-03, 1.21956171e-03, 8.61852312e-04, 1.41485186e-03,\n",
       "       1.92330580e-03, 1.74147589e-03, 3.00555506e-03, 3.33014937e-03,\n",
       "       7.02174146e-04, 2.29764906e-03, 2.84512938e-04, 8.40774354e-04,\n",
       "       1.28011753e-02, 4.24138766e-03, 1.70011634e-03, 7.01979838e-04,\n",
       "       3.01957292e-03, 2.45183452e-03, 2.95472968e-03, 2.31582458e-03,\n",
       "       1.64637826e-04, 1.83105354e-03, 7.87222270e-04, 6.41863750e-03,\n",
       "       3.18026802e-03, 1.07184493e-03, 1.52240027e-03, 2.38620702e-03,\n",
       "       3.64833915e-03, 1.82183720e-03, 1.78339163e-03, 2.73447298e-03,\n",
       "       2.52516974e-03, 2.12279873e-03, 1.55676443e-03, 1.93017805e-03,\n",
       "       9.89900018e-04, 1.27590770e-02, 2.85292102e-03, 7.08353849e-04,\n",
       "       2.40756427e-03, 5.04031662e-04, 3.14452976e-03, 1.46715702e-03,\n",
       "       7.74164499e-04, 7.04838779e-04, 1.90440741e-04, 6.92331645e-04,\n",
       "       1.87873851e-03])"
      ]
     },
     "execution_count": 83,
     "metadata": {},
     "output_type": "execute_result"
    }
   ],
   "source": [
    "feature_importance = grid_search.best_estimator_.feature_importances_\n",
    "feature_importance"
   ]
  },
  {
   "cell_type": "code",
   "execution_count": 84,
   "metadata": {},
   "outputs": [],
   "source": [
    "def display_scores(scores):\n",
    "    print('Scores:', scores)\n",
    "    print('Mean:', scores.mean())\n",
    "    print('Standard Deviation:', scores.std())"
   ]
  },
  {
   "cell_type": "code",
   "execution_count": 85,
   "metadata": {},
   "outputs": [
    {
     "name": "stdout",
     "output_type": "stream",
     "text": [
      "Scores: [0.22489756 0.2217856  0.23410188 0.2237746  0.2073871  0.23023555\n",
      " 0.23094363 0.21486058 0.22040897 0.21902951 0.22920431 0.2298524\n",
      " 0.21883189 0.23928282 0.24086171 0.23988213 0.22551169 0.22357991\n",
      " 0.22397702 0.22373228]\n",
      "Mean: 0.2261070571754384\n",
      "Standard Deviation: 0.008258121499785455\n"
     ]
    }
   ],
   "source": [
    "from sklearn.model_selection import cross_val_score\n",
    "\n",
    "ridge_scores = cross_val_score(ridge_reg_2, df_tr_prepared, df_labels,\n",
    "                                scoring=\"neg_mean_squared_error\", cv=20)\n",
    "ridge_rmse_scores = np.sqrt(-ridge_scores)\n",
    "display_scores(ridge_rmse_scores)"
   ]
  },
  {
   "cell_type": "code",
   "execution_count": 87,
   "metadata": {},
   "outputs": [],
   "source": [
    "avo = pd.read_csv(\"avocado.csv\")"
   ]
  },
  {
   "cell_type": "code",
   "execution_count": 90,
   "metadata": {},
   "outputs": [],
   "source": [
    "avo = df[df['region'] == 'TotalUS'].drop(['Date','region'], axis=1)\n",
    "avo = avo[df['type'] == 'organic']"
   ]
  },
  {
   "cell_type": "code",
   "execution_count": 91,
   "metadata": {},
   "outputs": [
    {
     "name": "stdout",
     "output_type": "stream",
     "text": [
      "Predicted avicado price in Entire US in 2019 is: 1.699987 USD\n"
     ]
    },
    {
     "data": {
      "image/png": "[encoded data removed]",
      "text/plain": [
       "<Figure size 432x288 with 1 Axes>"
      ]
     },
     "metadata": {
      "needs_background": "light"
     },
     "output_type": "display_data"
    }
   ],
   "source": [
    "from scipy import stats\n",
    "\n",
    "X_lin = avo['year'].reset_index(drop=True)\n",
    "y_lin = avo['AveragePrice'].reset_index(drop=True)\n",
    "\n",
    "\n",
    "slope, intercept, r, p, std_err = stats.linregress(X_lin, y_lin) # scipy\n",
    "\n",
    "def prediction(x):\n",
    "  return slope * x + intercept\n",
    "\n",
    "name = 'Avg. Avocado price (organic) in 2019'\n",
    "md = list(map(prediction, X_lin)) # scipy\n",
    "\n",
    "X_pred_lin = 2019\n",
    "y_pred_lin = prediction(X_pred_lin)\n",
    "\n",
    "print('Predicted avicado price in Entire US in 2019 is: %f USD' % y_pred_lin)\n",
    "\n",
    "X_lin2 = X_lin.append(pd.Series(X_pred_lin))\n",
    "y_lin2 = y_lin.append(pd.Series(y_pred_lin))\n",
    "md2 = list(map(prediction, X_lin2)) \n",
    "\n",
    "plt.scatter(X_lin2, y_lin2) # Scatter Plot\n",
    "plt.plot(X_lin2, md2, color='green')\n",
    "plt.xticks(np.arange(min(X_lin2), max(X_lin2+1), 1.0))\n",
    "plt.show()"
   ]
  },
  {
   "cell_type": "markdown",
   "metadata": {},
   "source": [
    "Here we can see the price of avocado. \n",
    "\n",
    "END"
   ]
  }
 ],
 "metadata": {
  "kernelspec": {
   "display_name": "Python 3",
   "language": "python",
   "name": "python3"
  },
  "language_info": {
   "codemirror_mode": {
    "name": "ipython",
    "version": 3
   },
   "file_extension": ".py",
   "mimetype": "text/x-python",
   "name": "python",
   "nbconvert_exporter": "python",
   "pygments_lexer": "ipython3",
   "version": "3.8.5"
  }
 },
 "nbformat": 4,
 "nbformat_minor": 4
}
